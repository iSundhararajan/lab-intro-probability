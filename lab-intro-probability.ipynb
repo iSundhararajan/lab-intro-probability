{
 "cells": [
  {
   "cell_type": "markdown",
   "metadata": {},
   "source": [
    "# Lab | Intro to Probability"
   ]
  },
  {
   "cell_type": "markdown",
   "metadata": {},
   "source": [
    "**Objective**\n",
    "\n",
    "Welcome to this Intro to Probability lab, where we explore decision-making scenarios through the lens of probability and strategic analysis. In the business world, making informed decisions is crucial, especially when faced with uncertainties. This lab focuses on scenarios where probabilistic outcomes play a significant role in shaping strategies and outcomes. Students will engage in exercises that require assessing and choosing optimal paths based on data-driven insights. The goal is to enhance your skills by applying probability concepts to solve real-world problems."
   ]
  },
  {
   "cell_type": "markdown",
   "metadata": {},
   "source": [
    "**Challenge 1**"
   ]
  },
  {
   "cell_type": "markdown",
   "metadata": {},
   "source": [
    "#### Ironhack Airlines \n",
    "\n",
    "Often Airlines sell more tickets than they have seats available, this is called overbooking. Consider the following:\n",
    "- A plane has 450 seats. \n",
    "- Based on historical data we conclude that each individual passenger has a 3% chance of missing it's flight. \n",
    "\n",
    "If the Ironhack Airlines routinely sells 460 tickets, what is the chance that they have a seats for all passenger?"
   ]
  },
  {
   "cell_type": "code",
   "execution_count": 1,
   "metadata": {},
   "outputs": [
    {
     "data": {
      "text/plain": [
       "0.9998756189688462"
      ]
     },
     "execution_count": 1,
     "metadata": {},
     "output_type": "execute_result"
    }
   ],
   "source": [
    "#code here\n",
    "from scipy.stats import binom\n",
    "\n",
    "n = 450\n",
    "p = 0.03\n",
    "binom_dist = binom(n,p)\n",
    "1- binom_dist.cdf(2)"
   ]
  },
  {
   "cell_type": "markdown",
   "metadata": {},
   "source": [
    "**Challenge 2**"
   ]
  },
  {
   "cell_type": "markdown",
   "metadata": {},
   "source": [
    "#### Ironhack Call Center "
   ]
  },
  {
   "cell_type": "markdown",
   "metadata": {},
   "source": [
    "Suppose a customer service representative at a call center is handling customer complaints. Consider the following:\n",
    "- The probability of successfully resolving a customer complaint on the first attempt is 0.3. \n",
    "\n",
    "\n",
    "What is the probability that the representative needs to make at least three attempts before successfully resolving a customer complaint?"
   ]
  },
  {
   "cell_type": "code",
   "execution_count": 2,
   "metadata": {},
   "outputs": [
    {
     "name": "stdout",
     "output_type": "stream",
     "text": [
      "The probability that the representative needs exactly 3 attempts is 0.1470\n",
      "The probability that the representative needs at least 3 attempts is 0.4900\n"
     ]
    }
   ],
   "source": [
    "#code here\n",
    "from scipy.stats import geom\n",
    "\n",
    "# Probability of success on each trial\n",
    "p = 0.3\n",
    "\n",
    "# Geometric distribution with success probability p\n",
    "geom_dist = geom(p)\n",
    "\n",
    "# Calculate the probability of exactly 3 attempts\n",
    "prob_exactly_3rd_attempt = geom_dist.pmf(3)\n",
    "\n",
    "# Calculate the probability of at least 3 attempts\n",
    "prob_at_least_3_attempts = 1 - geom_dist.cdf(2)\n",
    "\n",
    "print(f\"The probability that the representative needs exactly 3 attempts is {prob_exactly_3rd_attempt:.4f}\")\n",
    "print(f\"The probability that the representative needs at least 3 attempts is {prob_at_least_3_attempts:.4f}\")\n"
   ]
  },
  {
   "cell_type": "markdown",
   "metadata": {},
   "source": [
    "**Challenge 3**"
   ]
  },
  {
   "cell_type": "markdown",
   "metadata": {},
   "source": [
    "#### Ironhack Website"
   ]
  },
  {
   "cell_type": "markdown",
   "metadata": {},
   "source": [
    "Consider a scenario related to Ironhack website traffic. Where:\n",
    "- our website takes on average 500 visits per hour.\n",
    "- the website's server is designed to handle up to 550 vists per hour.\n",
    "\n",
    "\n",
    "What is the probability of the website server being overwhelmed?"
   ]
  },
  {
   "cell_type": "code",
   "execution_count": 4,
   "metadata": {},
   "outputs": [
    {
     "name": "stdout",
     "output_type": "stream",
     "text": [
      "The probability that the website server will be overwhelmed is 0.01289822084039205\n"
     ]
    }
   ],
   "source": [
    "#code here\n",
    "from scipy.stats import poisson\n",
    "\n",
    "# Average rate of visits per hour\n",
    "lambda_ = 500\n",
    "\n",
    "# Server capacity\n",
    "capacity = 550\n",
    "\n",
    "# Create a Poisson distribution with average rate lambda_\n",
    "poisson_dist = poisson(lambda_)\n",
    "\n",
    "# Calculate P(X <= 550) using the Poisson distribution\n",
    "probability_less_equal_550 = poisson_dist.cdf(capacity)\n",
    "\n",
    "# Calculate P(X > 550)\n",
    "probability_greater_550 = 1 - probability_less_equal_550\n",
    "\n",
    "print(f\"The probability that the website server will be overwhelmed is {probability_greater_550}\")\n"
   ]
  },
  {
   "cell_type": "markdown",
   "metadata": {},
   "source": [
    "What is the probability of being overwhelmed at some point during a day? (consider 24hours)"
   ]
  },
  {
   "cell_type": "code",
   "execution_count": 5,
   "metadata": {},
   "outputs": [
    {
     "name": "stdout",
     "output_type": "stream",
     "text": [
      "The probability that the website server will be overwhelmed at some point during a day is 0.2677043869515715\n"
     ]
    }
   ],
   "source": [
    "#code here\n",
    "# Average rate of visits per hour\n",
    "lambda_ = 500\n",
    "\n",
    "# Server capacity\n",
    "capacity = 550\n",
    "\n",
    "# Create a Poisson distribution with the average rate lambda_\n",
    "poisson_dist = poisson(lambda_)\n",
    "\n",
    "# Calculate P(X <= 550) using the Poisson distribution\n",
    "probability_less_equal_550 = poisson_dist.cdf(capacity)\n",
    "\n",
    "# Calculate P(X > 550)\n",
    "probability_greater_550 = 1 - probability_less_equal_550\n",
    "\n",
    "# Calculate the probability that the server is not overwhelmed in one hour\n",
    "probability_not_overwhelmed_per_hour = 1 - probability_greater_550\n",
    "\n",
    "# Calculate the probability that the server is not overwhelmed in any of the 24 hours\n",
    "probability_not_overwhelmed_24_hours = probability_not_overwhelmed_per_hour ** 24\n",
    "\n",
    "# Calculate the probability that the server is overwhelmed at least once in 24 hours\n",
    "probability_overwhelmed_24_hours = 1 - probability_not_overwhelmed_24_hours\n",
    "\n",
    "print(f\"The probability that the website server will be overwhelmed at some point during a day is {probability_overwhelmed_24_hours}\")\n"
   ]
  },
  {
   "cell_type": "markdown",
   "metadata": {},
   "source": [
    "**Challenge 4**"
   ]
  },
  {
   "cell_type": "markdown",
   "metadata": {},
   "source": [
    "#### Ironhack Helpdesk"
   ]
  },
  {
   "cell_type": "markdown",
   "metadata": {},
   "source": [
    "Consider a scenario related to the time between arrivals of customers at a service desk.\n",
    "\n",
    "On average, a customers arrives every 10minutes.\n",
    "\n",
    "What is the probability that the next customer will arrive within the next 5 minutes?"
   ]
  },
  {
   "cell_type": "code",
   "execution_count": 6,
   "metadata": {},
   "outputs": [
    {
     "name": "stdout",
     "output_type": "stream",
     "text": [
      "The probability that the next customer will arrive within the next 5 minutes is: 0.3934693402873666\n"
     ]
    }
   ],
   "source": [
    "from scipy.stats import expon\n",
    "\n",
    "# Average rate of customer arrivals per minute\n",
    "lambda_value = 0.1\n",
    "\n",
    "# Create the inverse exponential distribution with the arrival rate lambda\n",
    "exp_distribution = expon(scale=1/lambda_value)\n",
    "\n",
    "# Calculate the probability that the next customer will arrive within the next 5 minutes\n",
    "probability_within_5_minutes = exp_distribution.cdf(5)\n",
    "\n",
    "print(\"The probability that the next customer will arrive within the next 5 minutes is:\", probability_within_5_minutes)"
   ]
  },
  {
   "cell_type": "markdown",
   "metadata": {},
   "source": [
    "If there is no customer for 15minutes, employees can that a 5minutes break.\n",
    "\n",
    "What is the probability an employee taking a break?"
   ]
  },
  {
   "cell_type": "code",
   "execution_count": 7,
   "metadata": {},
   "outputs": [
    {
     "name": "stdout",
     "output_type": "stream",
     "text": [
      "The probability that an employee takes a break when there are no customers for 15 minutes is: 0.2231301601484298\n"
     ]
    }
   ],
   "source": [
    "from scipy.stats import expon\n",
    "\n",
    "# Average rate of customer arrivals per minute\n",
    "lambda_value = 0.1\n",
    "\n",
    "# Create the exponential distribution with the arrival rate lambda\n",
    "exp_distribution = expon(scale=1/lambda_value)\n",
    "\n",
    "# Calculate the probability of a customer arriving within 15 minutes\n",
    "probability_customer_arrival_15_minutes = exp_distribution.cdf(15)\n",
    "\n",
    "# Probability of no customer arrival in 15 minutes (complementary probability)\n",
    "probability_no_customer_15_minutes = 1 - probability_customer_arrival_15_minutes\n",
    "\n",
    "# Probability that an employee takes a 5-minute break when there are no customers for 15 minutes\n",
    "probability_employee_break = probability_no_customer_15_minutes\n",
    "\n",
    "print(\"The probability that an employee takes a break when there are no customers for 15 minutes is:\", probability_employee_break)\n"
   ]
  },
  {
   "cell_type": "markdown",
   "metadata": {},
   "source": [
    "**Challenge 5**"
   ]
  },
  {
   "cell_type": "markdown",
   "metadata": {},
   "source": [
    "The weights of a certain species of birds follow a normal distribution with a mean weight of 150 grams and a standard deviation of 10 grams. \n",
    "\n",
    "- If we randomly select a bird, what is the probability that its weight is between 140 and 160 grams?"
   ]
  },
  {
   "cell_type": "code",
   "execution_count": 8,
   "metadata": {},
   "outputs": [
    {
     "name": "stdout",
     "output_type": "stream",
     "text": [
      "The probability that the weight is between 140 and 160 grams is: 0.6826894921370859\n"
     ]
    }
   ],
   "source": [
    "#code here\n",
    "from scipy.stats import norm\n",
    "\n",
    "# Define the parameters of the normal distribution\n",
    "mean = 150  # mean\n",
    "std_dev = 10  # standard deviation\n",
    "\n",
    "# Calculate the probability that the weight is between 140 and 160 grams\n",
    "prob_140_160 = norm.cdf(160, mean, std_dev) - norm.cdf(140, mean, std_dev)\n",
    "\n",
    "print(\"The probability that the weight is between 140 and 160 grams is:\", prob_140_160)"
   ]
  },
  {
   "cell_type": "markdown",
   "metadata": {},
   "source": [
    "**Challenge 6**"
   ]
  },
  {
   "cell_type": "markdown",
   "metadata": {},
   "source": [
    "If the lifetime (in hours) of a certain electronic component follows an exponential distribution with a mean lifetime of 50 hours, what is the probability that the component fails within the first 30 hours?"
   ]
  },
  {
   "cell_type": "code",
   "execution_count": 9,
   "metadata": {},
   "outputs": [
    {
     "name": "stdout",
     "output_type": "stream",
     "text": [
      "The probability that the component fails within the first 30 hours is: 0.4511883639059735\n"
     ]
    }
   ],
   "source": [
    "#code here\n",
    "from scipy.stats import expon\n",
    "\n",
    "# Rate parameter (lambda)\n",
    "lambd = 1/50\n",
    "\n",
    "# Calculate the probability of failure within the first 30 hours\n",
    "probability = expon.cdf(30, scale=1/lambd)\n",
    "\n",
    "print(\"The probability that the component fails within the first 30 hours is:\", probability)"
   ]
  }
 ],
 "metadata": {
  "kernelspec": {
   "display_name": "Python 3",
   "language": "python",
   "name": "python3"
  },
  "language_info": {
   "codemirror_mode": {
    "name": "ipython",
    "version": 3
   },
   "file_extension": ".py",
   "mimetype": "text/x-python",
   "name": "python",
   "nbconvert_exporter": "python",
   "pygments_lexer": "ipython3",
   "version": "3.11.7"
  }
 },
 "nbformat": 4,
 "nbformat_minor": 2
}
